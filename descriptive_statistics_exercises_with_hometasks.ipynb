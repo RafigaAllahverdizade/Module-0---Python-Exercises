{
 "cells": [
  {
   "cell_type": "markdown",
   "id": "7606c4c9",
   "metadata": {},
   "source": [
    "# Descriptive Statistics Exercises and Solutions\n",
    "This notebook includes basic exercises related to descriptive statistics, including mean, median, mode, variance, and standard deviation."
   ]
  },
  {
   "cell_type": "markdown",
   "id": "e595fff0",
   "metadata": {},
   "source": [
    "## Exercise 1: Calculate Measures of Central Tendency\n",
    "**Task:** Given the following data, calculate the mean, median, and mode:\n",
    "`data = [12, 15, 12, 18, 19, 12, 16, 14, 18, 19]`"
   ]
  },
  {
   "cell_type": "code",
   "execution_count": 31,
   "id": "0f5fc95a",
   "metadata": {},
   "outputs": [
    {
     "data": {
      "text/plain": [
       "(np.float64(15.5), np.float64(15.5), 12)"
      ]
     },
     "execution_count": 31,
     "metadata": {},
     "output_type": "execute_result"
    }
   ],
   "source": [
    "import warnings as wn\n",
    "wn.filterwarnings(\"ignore\")\n",
    "import statistics as stats\n",
    "import numpy as np\n",
    "import pandas as pd\n",
    "\n",
    "data = [12, 15, 12, 18, 19, 12, 16, 14, 18, 19]\n",
    "mean = np.mean(data)\n",
    "median = np.median(data)\n",
    "mode = stats.mode(data)\n",
    "mean, median, mode"
   ]
  },
  {
   "cell_type": "markdown",
   "id": "fc1c54ca",
   "metadata": {},
   "source": [
    "## Exercise 2: Calculate Measures of Dispersion\n",
    "**Task:** Using the same data, calculate the variance and standard deviation."
   ]
  },
  {
   "cell_type": "code",
   "execution_count": 3,
   "id": "26c18595",
   "metadata": {},
   "outputs": [
    {
     "data": {
      "text/plain": [
       "(np.float64(8.5), np.float64(2.9154759474226504))"
      ]
     },
     "execution_count": 3,
     "metadata": {},
     "output_type": "execute_result"
    }
   ],
   "source": [
    "variance = np.var(data, ddof=1)  # Sample variance\n",
    "std_dev = np.std(data, ddof=1)  # Sample standard deviation\n",
    "variance, std_dev"
   ]
  },
  {
   "cell_type": "markdown",
   "id": "6a7a86fb",
   "metadata": {},
   "source": [
    "## Exercise 3: Five Number Summary\n",
    "**Task:** Compute the minimum, Q1, median (Q2), Q3, and maximum."
   ]
  },
  {
   "cell_type": "code",
   "execution_count": 4,
   "id": "cfa889dc",
   "metadata": {},
   "outputs": [
    {
     "data": {
      "text/plain": [
       "(np.int64(12),\n",
       " np.float64(12.5),\n",
       " np.float64(15.5),\n",
       " np.float64(18.0),\n",
       " np.int64(19))"
      ]
     },
     "execution_count": 4,
     "metadata": {},
     "output_type": "execute_result"
    }
   ],
   "source": [
    "min_val = np.min(data)\n",
    "q1 = np.percentile(data, 25)\n",
    "q2 = np.percentile(data, 50)\n",
    "q3 = np.percentile(data, 75)\n",
    "max_val = np.max(data)\n",
    "min_val, q1, q2, q3, max_val"
   ]
  },
  {
   "cell_type": "markdown",
   "id": "66d075cb",
   "metadata": {},
   "source": [
    "## Exercise 4: Visualizing the Data\n",
    "**Task:** Create a boxplot to visualize the distribution of the data."
   ]
  },
  {
   "cell_type": "code",
   "execution_count": 5,
   "id": "f0c100c9",
   "metadata": {},
   "outputs": [
    {
     "data": {
      "image/png": "[encoded data removed]",
      "text/plain": [
       "<Figure size 640x480 with 1 Axes>"
      ]
     },
     "metadata": {},
     "output_type": "display_data"
    }
   ],
   "source": [
    "import matplotlib.pyplot as plt\n",
    "plt.boxplot(data, vert=False)\n",
    "plt.title('Boxplot of Data')\n",
    "plt.xlabel('Values')\n",
    "plt.grid(True)\n",
    "plt.show()"
   ]
  },
  {
   "cell_type": "markdown",
   "id": "206093ce",
   "metadata": {},
   "source": [
    "## 🏠 Homework Tasks for Descriptive Statistics\n",
    "Solve the following tasks independently. Try to interpret your results as well.\n"
   ]
  },
  {
   "cell_type": "markdown",
   "id": "446577d5",
   "metadata": {},
   "source": [
    "### 📌 Homework: Measures of Central Tendency\n",
    "#### Task 1:\n",
    "Given the dataset: `[21, 23, 19, 25, 30, 21, 20, 19, 25, 23]`, calculate the **mean**, **median**, and **mode**.\n",
    "\n",
    "#### Task 2:\n",
    "You surveyed 15 households and collected the following data for the number of children: `[2, 3, 1, 4, 2, 3, 3, 2, 1, 4, 5, 3, 2, 1, 4]`. Find the **mean**, **median**, and **mode**.\n",
    "\n",
    "#### Task 3:\n",
    "In a small company, the monthly salaries (in hundreds) are: `[35, 40, 45, 50, 40, 35, 100, 45, 40, 35]`. Compute the **mean**, **median**, and **mode** and comment on any skewness."
   ]
  },
  {
   "cell_type": "markdown",
   "id": "792d47c0-f4c9-4528-956c-c874746b106a",
   "metadata": {},
   "source": [
    "Task 1"
   ]
  },
  {
   "cell_type": "code",
   "execution_count": 6,
   "id": "58a9d1df-7983-4e76-a8c9-242458ea7cee",
   "metadata": {},
   "outputs": [],
   "source": [
    "d_set = [21, 23, 19, 25, 30, 21, 20, 19, 25, 23]"
   ]
  },
  {
   "cell_type": "code",
   "execution_count": 7,
   "id": "49e140f8-6de3-4fca-afe0-854b1f2feeef",
   "metadata": {},
   "outputs": [
    {
     "data": {
      "text/plain": [
       "np.float64(22.6)"
      ]
     },
     "execution_count": 7,
     "metadata": {},
     "output_type": "execute_result"
    }
   ],
   "source": [
    "mean_set = np.mean(d_set)\n",
    "mean_set"
   ]
  },
  {
   "cell_type": "code",
   "execution_count": 8,
   "id": "74ef3136-00ca-46f5-b5ac-33b5c91d83f6",
   "metadata": {},
   "outputs": [
    {
     "data": {
      "text/plain": [
       "np.float64(22.0)"
      ]
     },
     "execution_count": 8,
     "metadata": {},
     "output_type": "execute_result"
    }
   ],
   "source": [
    "median_set = np.median(d_set)\n",
    "median_set"
   ]
  },
  {
   "cell_type": "code",
   "execution_count": 9,
   "id": "3bc6cd84-1f70-4e8b-806e-f0e1ce8f731e",
   "metadata": {},
   "outputs": [
    {
     "data": {
      "text/plain": [
       "21"
      ]
     },
     "execution_count": 9,
     "metadata": {},
     "output_type": "execute_result"
    }
   ],
   "source": [
    "mode_set = stats.mode(d_set)\n",
    "mode_set"
   ]
  },
  {
   "cell_type": "markdown",
   "id": "1a5f26e3-1ecb-46f2-87db-824a2431a75d",
   "metadata": {},
   "source": [
    "Task 2"
   ]
  },
  {
   "cell_type": "code",
   "execution_count": 10,
   "id": "5b98c7a8-9c72-45f4-8ec8-76b102468dd1",
   "metadata": {},
   "outputs": [],
   "source": [
    "num_children = [2, 3, 1, 4, 2, 3, 3, 2, 1, 4, 5, 3, 2, 1, 4]"
   ]
  },
  {
   "cell_type": "code",
   "execution_count": 11,
   "id": "4424237e-2f55-4422-ba28-eefaab6a3d0d",
   "metadata": {},
   "outputs": [
    {
     "data": {
      "text/plain": [
       "(np.float64(2.6666666666666665), np.float64(3.0), 2)"
      ]
     },
     "execution_count": 11,
     "metadata": {},
     "output_type": "execute_result"
    }
   ],
   "source": [
    "mean = np.mean(num_children)\n",
    "median = np.median(num_children)\n",
    "mode = stats.mode(num_children)\n",
    "mean, median, mode"
   ]
  },
  {
   "cell_type": "code",
   "execution_count": 12,
   "id": "78ad358a-8c85-49f0-a4a2-02298d5e12ba",
   "metadata": {},
   "outputs": [
    {
     "data": {
      "text/plain": [
       "(np.float64(46.5), np.float64(40.0), 35)"
      ]
     },
     "execution_count": 12,
     "metadata": {},
     "output_type": "execute_result"
    }
   ],
   "source": [
    "salary_in_month = [35, 40, 45, 50, 40, 35, 100, 45, 40, 35]\n",
    "salary_mean = np.mean(salary_in_month)\n",
    "salary_median = np. median(salary_in_month)\n",
    "salary_mode = stats.mode(salary_in_month)\n",
    "salary_mean, salary_median, salary_mode"
   ]
  },
  {
   "cell_type": "code",
   "execution_count": 33,
   "id": "7403e69c-f6f4-4af1-8995-21617aae4526",
   "metadata": {},
   "outputs": [
    {
     "data": {
      "image/png": "[encoded data removed]",
      "text/plain": [
       "<Figure size 640x480 with 1 Axes>"
      ]
     },
     "metadata": {},
     "output_type": "display_data"
    }
   ],
   "source": [
    "plt.hist(salary_in_month)\n",
    "plt.title('Histogram of Data')\n",
    "plt.xlabel('Salary')\n",
    "plt.ylabel('Frequency')\n",
    "plt.grid(True)\n",
    "plt.show()\n",
    "#As the salary increases, number of people decrease. Less employees earn high salary."
   ]
  },
  {
   "cell_type": "code",
   "execution_count": 14,
   "id": "561e98f7-5c92-4996-a557-bb6d924c8d17",
   "metadata": {},
   "outputs": [
    {
     "ename": "SyntaxError",
     "evalue": "invalid syntax (2226934984.py, line 3)",
     "output_type": "error",
     "traceback": [
      "\u001b[1;36m  Cell \u001b[1;32mIn[14], line 3\u001b[1;36m\u001b[0m\n\u001b[1;33m    Use the dataset: `[5, 10, 10, 10, 15, 20, 25, 25, 30]` to calculate **variance** and **standard deviation**.\u001b[0m\n\u001b[1;37m        ^\u001b[0m\n\u001b[1;31mSyntaxError\u001b[0m\u001b[1;31m:\u001b[0m invalid syntax\n"
     ]
    }
   ],
   "source": [
    "\n",
    "\n",
    "### 📌 Homework: Measures of Dispersion\n",
    "#### Task 1:\n",
    "Use the dataset: `[5, 10, 10, 10, 15, 20, 25, 25, 30]` to calculate **variance** and **standard deviation**.\n",
    "\n",
    "#### Task 2:\n",
    "Income levels (in AZN) for 8 families are: `[500, 700, 800, 600, 1200, 1000, 950, 1100]`. Calculate **variance** and **standard deviation**.\n",
    "\n",
    "#### Task 3:\n",
    "Evaluate the spread of scores in a classroom: `[60, 65, 70, 75, 80, 85, 90, 95, 100]`. What are the **sample variance** and **standard deviation**?"
   ]
  },
  {
   "cell_type": "markdown",
   "id": "89e2e8c6-c087-4f27-af30-308b961e2f09",
   "metadata": {},
   "source": [
    "Task 1"
   ]
  },
  {
   "cell_type": "code",
   "execution_count": 15,
   "id": "1c41b924-ae0f-4ce5-bcad-7d795baea9a4",
   "metadata": {},
   "outputs": [
    {
     "data": {
      "text/plain": [
       "(np.float64(8.5), np.float64(2.9154759474226504))"
      ]
     },
     "execution_count": 15,
     "metadata": {},
     "output_type": "execute_result"
    }
   ],
   "source": [
    "dataset = [5, 10, 10, 10, 15, 20, 25, 25, 30]\n",
    "var_dataset = np.var(data, ddof=1)  # Sample variance\n",
    "std_dev_dataset = np.std(data, ddof=1)  # Sample standard deviation\n",
    "var_dataset, std_dev_dataset"
   ]
  },
  {
   "cell_type": "markdown",
   "id": "8ebfd1a1-ff91-4ae8-9526-28531e37d478",
   "metadata": {},
   "source": [
    "Task 2"
   ]
  },
  {
   "cell_type": "code",
   "execution_count": 17,
   "id": "1cc1aa75-3181-400c-b3df-f8147f4ef3ac",
   "metadata": {},
   "outputs": [
    {
     "data": {
      "text/plain": [
       "(np.float64(61026.79), np.float64(247.04))"
      ]
     },
     "execution_count": 17,
     "metadata": {},
     "output_type": "execute_result"
    }
   ],
   "source": [
    "income = [500, 700, 800, 600, 1200, 1000, 950, 1100]\n",
    "income_var = np.var(income, ddof=1).round(2)\n",
    "income_std_dev = np.std(income, ddof =1).round(2)\n",
    "income_var, income_std_dev"
   ]
  },
  {
   "cell_type": "markdown",
   "id": "a79fa140-23e1-43a9-8e2b-1bc41c0c888f",
   "metadata": {},
   "source": [
    "Task 3"
   ]
  },
  {
   "cell_type": "code",
   "execution_count": 22,
   "id": "6fa44d65-1c86-4736-9e77-bf8e902bd7ea",
   "metadata": {},
   "outputs": [
    {
     "data": {
      "text/plain": [
       "(np.float64(187.5), np.float64(13.693063937629153))"
      ]
     },
     "execution_count": 22,
     "metadata": {},
     "output_type": "execute_result"
    }
   ],
   "source": [
    "scores = [60, 65, 70, 75, 80, 85, 90, 95, 100]\n",
    "scores_var = np.var(scores, ddof = 1)\n",
    "scores_std_dev = np.std(scores, ddof = 1)\n",
    "scores_var, scores_std_dev"
   ]
  },
  {
   "cell_type": "code",
   "execution_count": 23,
   "id": "c113a7d8-a180-4eba-8d11-bab81349bccc",
   "metadata": {},
   "outputs": [
    {
     "data": {
      "image/png": "[encoded data removed]",
      "text/plain": [
       "<Figure size 640x480 with 1 Axes>"
      ]
     },
     "metadata": {},
     "output_type": "display_data"
    }
   ],
   "source": [
    "plt.boxplot(scores, vert=False)\n",
    "plt.title('Boxplot of Data')\n",
    "plt.xlabel('Scores')\n",
    "plt.grid(True)\n",
    "plt.show()"
   ]
  },
  {
   "cell_type": "markdown",
   "id": "9b505403",
   "metadata": {},
   "source": [
    "### 📌 Homework: Five Number Summary\n",
    "#### Task 1:\n",
    "Compute the **five-number summary** for `[100, 102, 105, 107, 110, 113, 115, 117, 120]`.\n",
    "\n",
    "#### Task 2:\n",
    "Given household expenses in a community: `[230, 250, 270, 290, 310, 330, 350, 370, 390, 410]`, calculate the **minimum**, **Q1**, **Q2**, **Q3**, and **maximum**.\n",
    "\n",
    "#### Task 3:\n",
    "Analyze the five-number summary for the number of working hours per week: `[35, 36, 38, 40, 42, 44, 46, 48, 50, 55]`."
   ]
  },
  {
   "cell_type": "markdown",
   "id": "64c9e5de-1d8d-40bc-8b58-6e898c911b48",
   "metadata": {},
   "source": [
    "Task 1"
   ]
  },
  {
   "cell_type": "code",
   "execution_count": 25,
   "id": "0607d6db-47b7-4aea-a284-25baee19ed0b",
   "metadata": {},
   "outputs": [
    {
     "data": {
      "text/plain": [
       "(np.int64(100),\n",
       " np.float64(105.0),\n",
       " np.float64(110.0),\n",
       " np.float64(115.0),\n",
       " np.int64(120))"
      ]
     },
     "execution_count": 25,
     "metadata": {},
     "output_type": "execute_result"
    }
   ],
   "source": [
    "five_num_sum = [100, 102, 105, 107, 110, 113, 115, 117, 120]\n",
    "min_fns = np.min(five_num_sum)\n",
    "q1_fns = np.percentile(five_num_sum, 25)\n",
    "q2_fns = np.percentile(five_num_sum, 50)\n",
    "q3_fns = np.percentile(five_num_sum, 75)\n",
    "max_fns = np.max(five_num_sum)\n",
    "min_fns, q1_fns, q2_fns, q3_fns, max_fns"
   ]
  },
  {
   "cell_type": "markdown",
   "id": "3a20cc6f-71f8-4393-b9ba-d7c8455b92cb",
   "metadata": {},
   "source": [
    "Task 2"
   ]
  },
  {
   "cell_type": "code",
   "execution_count": 29,
   "id": "64aff150-6f10-4d4e-b05f-b1baaab24c45",
   "metadata": {},
   "outputs": [
    {
     "data": {
      "text/plain": [
       "(np.int64(230),\n",
       " np.float64(275.0),\n",
       " np.float64(320.0),\n",
       " np.float64(365.0),\n",
       " np.int64(410))"
      ]
     },
     "execution_count": 29,
     "metadata": {},
     "output_type": "execute_result"
    }
   ],
   "source": [
    "hh_exp = [230, 250, 270, 290, 310, 330, 350, 370, 390, 410]\n",
    "min_exp = np.min(hh_exp)\n",
    "q1_exp = np.percentile(hh_exp, 25)\n",
    "q2_exp = np.percentile(hh_exp, 50)\n",
    "q3_exp = np.percentile(hh_exp, 75)\n",
    "max_exp = np.max(hh_exp)\n",
    "min_exp, q1_exp, q2_exp, q3_exp, max_exp"
   ]
  },
  {
   "cell_type": "markdown",
   "id": "5b341e87-631e-4fb6-b4fe-ed48019b6867",
   "metadata": {},
   "source": [
    "Task 3"
   ]
  },
  {
   "cell_type": "code",
   "execution_count": 30,
   "id": "0d518ab0-3055-48df-b0e5-43d9ccddcf1a",
   "metadata": {},
   "outputs": [
    {
     "data": {
      "text/plain": [
       "(np.int64(35),\n",
       " np.float64(38.5),\n",
       " np.float64(43.0),\n",
       " np.float64(47.5),\n",
       " np.int64(55))"
      ]
     },
     "execution_count": 30,
     "metadata": {},
     "output_type": "execute_result"
    }
   ],
   "source": [
    "work_hr = [35, 36, 38, 40, 42, 44, 46, 48, 50, 55]\n",
    "min_hr = np.min(work_hr)\n",
    "q1_hr = np.percentile(work_hr, 25)\n",
    "q2_hr = np.percentile(work_hr, 50)\n",
    "q3_hr = np.percentile(work_hr, 75)\n",
    "max_hr = np.max(work_hr)\n",
    "min_hr, q1_hr, q2_hr, q3_hr, max_hr"
   ]
  }
 ],
 "metadata": {
  "kernelspec": {
   "display_name": "Python 3 (ipykernel)",
   "language": "python",
   "name": "python3"
  },
  "language_info": {
   "codemirror_mode": {
    "name": "ipython",
    "version": 3
   },
   "file_extension": ".py",
   "mimetype": "text/x-python",
   "name": "python",
   "nbconvert_exporter": "python",
   "pygments_lexer": "ipython3",
   "version": "3.13.5"
  }
 },
 "nbformat": 4,
 "nbformat_minor": 5
}
